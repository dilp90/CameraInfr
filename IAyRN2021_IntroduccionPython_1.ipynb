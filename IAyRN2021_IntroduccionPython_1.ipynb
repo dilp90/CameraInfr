{
  "nbformat": 4,
  "nbformat_minor": 0,
  "metadata": {
    "colab": {
      "name": "IAyRN2021_IntroduccionPython_1.ipynb",
      "provenance": [],
      "authorship_tag": "ABX9TyO+qKykLT9oomymum14+6nf"
    },
    "kernelspec": {
      "name": "python3",
      "display_name": "Python 3"
    },
    "language_info": {
      "name": "python"
    }
  },
  "cells": [
    {
      "cell_type": "markdown",
      "metadata": {
        "id": "o-hxfVQs6O3n"
      },
      "source": [
        "#**1.1 ¿Qué es Python?**#\n",
        "\n",
        "Python es un lenguaje de programación muy popular creado por Guido van Rossum en 1991.\n",
        "\n",
        "Es ampliamente utilizado para diferentes aplicaciones:\n",
        "- Desarrollo de web.\n",
        "- Desarrollo de software.\n",
        "- Conexión de bases de datos. \n",
        "- Trabajar con diferentes tipos de datos y realizar operaciones matemáticas complejas. \n",
        "- Para prototipado rápido. \n",
        "- Etc.\n",
        "\n",
        "Existen dos versiones de Python: Python 2 y Python 3. \n",
        "En esta clase nos enfoacremos en *Python 3*. \n",
        "\n",
        "Además de las diferentes aplicaciones que tiene, Python se distingue por su fácil sintáxis. Depende mas de la indentación y no tanto de paréntesis ni puntos y comas. \n",
        "\n",
        "Para fines prácticos, en esta clase usaremos Google Colaborative: https://colab.research.google.com/notebooks/welcome.ipynb?hl=es \n",
        "\n",
        "Google Colab nos permite ejecutar y programar en Python sin necesidad de instalar algo directamente en nuestra computadora. \n",
        "\n",
        "Sin embargo existen otros entornos para desarrollar y ejecutar nuestro código en Python, como Jupyter o Spyder. \n"
      ]
    },
    {
      "cell_type": "code",
      "metadata": {
        "id": "4OH7nCHL57pO",
        "colab": {
          "base_uri": "https://localhost:8080/"
        },
        "outputId": "45e353ac-bb71-4149-fa2f-eacae5b1fc96"
      },
      "source": [
        "print(\"Hello World!\")"
      ],
      "execution_count": 1,
      "outputs": [
        {
          "output_type": "stream",
          "text": [
            "Hello World!\n"
          ],
          "name": "stdout"
        }
      ]
    },
    {
      "cell_type": "code",
      "metadata": {
        "colab": {
          "base_uri": "https://localhost:8080/"
        },
        "id": "6-CjWbDcpJqy",
        "outputId": "6187d579-1fae-4c5e-c575-0ae646251f18"
      },
      "source": [
        "if 5 > 2:\n",
        "  print(\"Five is greater than two!\")"
      ],
      "execution_count": 2,
      "outputs": [
        {
          "output_type": "stream",
          "text": [
            "Five is greater than two!\n"
          ],
          "name": "stdout"
        }
      ]
    },
    {
      "cell_type": "markdown",
      "metadata": {
        "id": "D768ncm_6xzN"
      },
      "source": [
        "# **1.2 Comentarios en Python**\n",
        "\n",
        "Los comentarios se pueden utilizar para explicar cómo funciona un código o una parte de código, para no ejecutar una parte del código, etc. \n",
        "\n",
        "Existen dos manera de realizar comentarios en celdas de código:\n",
        "- Con un numeral \"#\"\n",
        "- Con triple comilla \"\"\" comment \"\"\" "
      ]
    },
    {
      "cell_type": "code",
      "metadata": {
        "id": "4_dJExqv69E9",
        "colab": {
          "base_uri": "https://localhost:8080/"
        },
        "outputId": "4a124b3e-d7d4-4bf7-d1e1-e60eecef3448"
      },
      "source": [
        "# Primera parte de código\n",
        "msg = \"Esta es la clase de Inteligencia Artificial :D\"\n",
        "print(msg)"
      ],
      "execution_count": 3,
      "outputs": [
        {
          "output_type": "stream",
          "text": [
            "Esta es la clase de Inteligencia Artificial :D\n"
          ],
          "name": "stdout"
        }
      ]
    },
    {
      "cell_type": "code",
      "metadata": {
        "colab": {
          "base_uri": "https://localhost:8080/"
        },
        "id": "ffFsVpZmrCsb",
        "outputId": "ab097494-496b-4b37-bb81-5e3ac7db3f8f"
      },
      "source": [
        "msg = \"Esta es la clase de Inteligencia Artificial :D\" # Mi primer string en Python\n",
        "print(msg)"
      ],
      "execution_count": 9,
      "outputs": [
        {
          "output_type": "stream",
          "text": [
            "Esta es la clase de Inteligencia Artificial :D\n"
          ],
          "name": "stdout"
        }
      ]
    },
    {
      "cell_type": "code",
      "metadata": {
        "colab": {
          "base_uri": "https://localhost:8080/"
        },
        "id": "bqTjMsJ_qbfW",
        "outputId": "a5e7d8b1-bfe9-4902-e533-382665a13689"
      },
      "source": [
        "\"\"\"\n",
        "Nombre: Daniel López\n",
        "Clase: INteligencia Artificial. \n",
        "Título: Mi primer código en Python\n",
        "\"\"\"\n",
        "msg = \"Esta es la clase de Inteligencia Artificial :D\"\n",
        "print(msg)"
      ],
      "execution_count": 8,
      "outputs": [
        {
          "output_type": "stream",
          "text": [
            "Esta es la clase de Inteligencia Artificial :D\n"
          ],
          "name": "stdout"
        }
      ]
    },
    {
      "cell_type": "markdown",
      "metadata": {
        "id": "Hm1uXWqM69ee"
      },
      "source": [
        "# **1.3 Variables**\n",
        "\n",
        "En Python, las variables nos ayudan a almacenar datos. Una ventaja en Python es que no hay que declarar las variables antes de empezar a utilizarlas, solo que hay que darles un valor predeterminado. \n"
      ]
    },
    {
      "cell_type": "code",
      "metadata": {
        "id": "xgauq_op7lvz",
        "colab": {
          "base_uri": "https://localhost:8080/"
        },
        "outputId": "b3439bfa-548a-4f8c-cc71-b0fa08ae5d47"
      },
      "source": [
        "x = 10 # entero\n",
        "y = \"Pancho\" # cadena de caracteres\n",
        "z = True # booleano\n",
        "print(x)\n",
        "print(y)\n",
        "print(z)"
      ],
      "execution_count": 10,
      "outputs": [
        {
          "output_type": "stream",
          "text": [
            "10\n",
            "Pancho\n",
            "True\n"
          ],
          "name": "stdout"
        }
      ]
    },
    {
      "cell_type": "code",
      "metadata": {
        "colab": {
          "base_uri": "https://localhost:8080/"
        },
        "id": "RiYKwq2Xtfye",
        "outputId": "bb36569f-3ef2-457a-e1fa-2c872b3c78fd"
      },
      "source": [
        "# Realizar operaciones con variables. \n",
        "x = 5\n",
        "y = 4\n",
        "z= 22\n",
        "print(x + y + z)\n",
        " "
      ],
      "execution_count": 11,
      "outputs": [
        {
          "output_type": "stream",
          "text": [
            "31\n"
          ],
          "name": "stdout"
        }
      ]
    },
    {
      "cell_type": "markdown",
      "metadata": {
        "id": "q2szQfZe7mFG"
      },
      "source": [
        "# **1.4 Tipos de datos**\n",
        "\n",
        "Existen diferentes tipos de datos en Python, pero nosotros nos enfocaremos en: \n",
        "\n",
        "- Texto:\t`str`\n",
        "- Numericos:\t`int`, `float`, `complex`\n",
        "- Secuenciales:\t`list`, `tuple`\n",
        "- Booleanos:\t`bool`\n",
        "\n",
        "\n"
      ]
    },
    {
      "cell_type": "code",
      "metadata": {
        "id": "VkUZsRDq7ohu"
      },
      "source": [
        "# Ejemplos de datos \n",
        "\n",
        "x = \"hola Mundo\" # str\n",
        "y = 5 # int\n",
        "z = 65.47 # float\n",
        "s = 1j # complex\n",
        "a = ['manzana', 'plátano', 'naranja'] # lista\n",
        "b = ('manzana', 'plátano', 'naranja') # tupla\n",
        "c = False\n"
      ],
      "execution_count": null,
      "outputs": []
    },
    {
      "cell_type": "markdown",
      "metadata": {
        "id": "10Ycd_d9tIfu"
      },
      "source": [
        "Se pueden convertir de un tipo de dato a otro:\n",
        "\n",
        "- `x = str(3)`\n",
        "- `y = int(3)`\n",
        "- `z = float(3)`\n",
        "\n",
        "También se puede verificar el tipo de dato que contiene una variable con \"`type`\"."
      ]
    },
    {
      "cell_type": "code",
      "metadata": {
        "colab": {
          "base_uri": "https://localhost:8080/"
        },
        "id": "RvPlTgsgIOqu",
        "outputId": "a4f4ff8b-5e43-4622-8e00-828ec9dab3f7"
      },
      "source": [
        "# Un valor puede convertirse en diferentes tipos de datos. \n",
        "x = str(3)\n",
        "y = int(3)\n",
        "z = float(3)\n",
        "\n",
        "print(x)\n",
        "print(y)\n",
        "print(z)\n",
        "\n",
        "# Verificar el tipo de dato con \"type\"\n",
        "print(type(x))\n",
        "print(type(y))\n",
        "print(type(z))"
      ],
      "execution_count": 13,
      "outputs": [
        {
          "output_type": "stream",
          "text": [
            "3\n",
            "3\n",
            "3.0\n",
            "<class 'str'>\n",
            "<class 'int'>\n",
            "<class 'float'>\n"
          ],
          "name": "stdout"
        }
      ]
    },
    {
      "cell_type": "markdown",
      "metadata": {
        "id": "hELgQWRP7ow-"
      },
      "source": [
        "## 1.4.1 Números\n",
        "\n",
        "Como se mencionó anteriormente, existen tres tipos de datos numéricos:\n",
        "- enteros\n",
        "- flotantes\n",
        "- complejos\n",
        "\n",
        "El entero (*int*) es un número sin decimales, un número completo, negativo o positivo. \n",
        "\n",
        "El flotante (*float*) es un número que contiene una o mas decimales, puede tener signo positivo o negativo. \n",
        "\n",
        "El número complejo (*complex*) es un número con una parte real y una parte imaginaria. La parte imaginaria se escribe con la letra \"j\". "
      ]
    },
    {
      "cell_type": "code",
      "metadata": {
        "id": "m3cr5RPs7xWQ",
        "colab": {
          "base_uri": "https://localhost:8080/"
        },
        "outputId": "87f38961-edf7-41cc-fd4c-3fb59e39b36b"
      },
      "source": [
        "x = 1    # int\n",
        "y = 2.8  # float\n",
        "z = 1j   # complex\n",
        "\n",
        "#convert from int to float:\n",
        "a = float(x)\n",
        "\n",
        "#convert from float to int:\n",
        "b = int(y)\n",
        "\n",
        "#convert from int to complex:\n",
        "c = complex(x)\n",
        "\n",
        "print(a)\n",
        "print(b)\n",
        "print(c)\n",
        "\n",
        "print(type(a))\n",
        "print(type(b))\n",
        "print(type(c))"
      ],
      "execution_count": 14,
      "outputs": [
        {
          "output_type": "stream",
          "text": [
            "1.0\n",
            "2\n",
            "(1+0j)\n",
            "<class 'float'>\n",
            "<class 'int'>\n",
            "<class 'complex'>\n"
          ],
          "name": "stdout"
        }
      ]
    },
    {
      "cell_type": "markdown",
      "metadata": {
        "id": "tEnvQjWk7x7v"
      },
      "source": [
        "## 1.4.2 Cadena de caracteres\n",
        "\n",
        "Una cadena de caracteres puede estar rodeada de comillas simples o dobles.\n"
      ]
    },
    {
      "cell_type": "code",
      "metadata": {
        "id": "uFq5V5iM8AbZ"
      },
      "source": [
        "a = \"hello!\"\n",
        "b= 'hola!'\n",
        "\n",
        "print(a)\n",
        "print(b)"
      ],
      "execution_count": null,
      "outputs": []
    },
    {
      "cell_type": "code",
      "metadata": {
        "id": "1a-8qMelmR2A"
      },
      "source": [
        "# Strings multilinea\n",
        "a = \"\"\"Lorem ipsum dolor sit amet,\n",
        "consectetur adipiscing elit,\n",
        "sed do eiusmod tempor incididunt\n",
        "ut labore et dolore magna aliqua.\"\"\"\n",
        "print(a)"
      ],
      "execution_count": null,
      "outputs": []
    },
    {
      "cell_type": "markdown",
      "metadata": {
        "id": "eXS9MslYm_-4"
      },
      "source": [
        "La funcion `len()` nos da la extensión de una cadena de caracteres. "
      ]
    },
    {
      "cell_type": "code",
      "metadata": {
        "colab": {
          "base_uri": "https://localhost:8080/"
        },
        "id": "nUY5ohM-nHea",
        "outputId": "dc7ba6d8-0e06-4d37-afae-b1d2b0b295dc"
      },
      "source": [
        "a = \"La pizza de Don Cangrejo es la mejor\"\n",
        "print(len(a))"
      ],
      "execution_count": 15,
      "outputs": [
        {
          "output_type": "stream",
          "text": [
            "36\n"
          ],
          "name": "stdout"
        }
      ]
    },
    {
      "cell_type": "markdown",
      "metadata": {
        "id": "7lAjYbZqoLie"
      },
      "source": [
        "Para unir o concatenar dos strings se puede usar el operador `+`."
      ]
    },
    {
      "cell_type": "code",
      "metadata": {
        "colab": {
          "base_uri": "https://localhost:8080/"
        },
        "id": "xFo9b0ivoTru",
        "outputId": "da1f24f7-333d-449f-8f53-d6426df3eeb6"
      },
      "source": [
        "a = \"Mi nombre es:  \"\n",
        "b = \"Daniel\"\n",
        "c = a + b\n",
        "print(c)"
      ],
      "execution_count": 18,
      "outputs": [
        {
          "output_type": "stream",
          "text": [
            "Mi nombre es:  Daniel\n"
          ],
          "name": "stdout"
        }
      ]
    },
    {
      "cell_type": "markdown",
      "metadata": {
        "id": "2jU2PRh38KTn"
      },
      "source": [
        "## 1.4.3 Booleanos\n",
        "\n",
        "En programación a veces necesitamos saber si una expresión es verdadera o falsa, `True` o `False`, respectivamente. \n"
      ]
    },
    {
      "cell_type": "code",
      "metadata": {
        "id": "qaVGC7598Ooq",
        "colab": {
          "base_uri": "https://localhost:8080/"
        },
        "outputId": "158a8c5e-0466-4e75-85d0-0f7d9161f12d"
      },
      "source": [
        "# Expresiones a ser evaluadas. \n",
        " \n",
        "print(10 > 9)\n",
        "print(10 == 9)\n",
        "print(10 < 9)"
      ],
      "execution_count": 19,
      "outputs": [
        {
          "output_type": "stream",
          "text": [
            "True\n",
            "False\n",
            "False\n"
          ],
          "name": "stdout"
        }
      ]
    },
    {
      "cell_type": "markdown",
      "metadata": {
        "id": "Yfe0p9e58PNN"
      },
      "source": [
        "# **1.5 Operadores**\n",
        "\n",
        "Los operadores se utilizan para realizar operaciones con valores y variables. \n",
        "\n",
        "Los principales operadores son:\n",
        "- Aritméticos\n",
        "- Asignación\n",
        "- Comparación\n",
        "- Lógicos"
      ]
    },
    {
      "cell_type": "code",
      "metadata": {
        "id": "x2wIbRF_8dpT",
        "colab": {
          "base_uri": "https://localhost:8080/"
        },
        "outputId": "1b1b017b-8a59-46cc-cc9d-f4abfc44917d"
      },
      "source": [
        "print(21 + 2)"
      ],
      "execution_count": 20,
      "outputs": [
        {
          "output_type": "stream",
          "text": [
            "23\n"
          ],
          "name": "stdout"
        }
      ]
    },
    {
      "cell_type": "markdown",
      "metadata": {
        "id": "a6U_RYhXsN-6"
      },
      "source": [
        "## 1.5.1 Aritméticos\n",
        "\n",
        "- Adición:  `+` , `x + y`\n",
        "- Sustracción: `-` , `x - y`\n",
        "- Multiplicación: `*` , `x * y`\n",
        "- División: `/` , `x / y`\n",
        "- Módulo: `%`, `x % y`\n",
        "- Exponencial: `**`, `x ** y`\n",
        "\n",
        "## 1.5.2 Asignación\n",
        "\n",
        "- `=` ,  `x = 5` , `x = 5`\n",
        "- `+=` , `x += 3`, `x = x + 3`\n",
        "- `-=` , `x -= 3`, `x = x - 3`\n",
        "- `*=` , `x *= 3`, `x = x * 3`\n",
        "- `/=` , `x /= 3`, `x = x /3` \n",
        "\n",
        "## 1.5.3 Comparación\n",
        "\n",
        "- Igual: `==` , `x == y`\n",
        "- Diferente de: `!=` , `x != y`\n",
        "- Mayor que: `>` , `x > y` \n",
        "- Menor que: `<` , `x < y`\n",
        "- Mayor o igual que: `>=` , `x >= y`\n",
        "- Menor o igual que: `<=` , `x <= y`\n",
        "\n",
        "## 1.5.4 Lógicos\n",
        "\n",
        "- `and`: regresa `True` si ambas expresiones son verdaderas. \n",
        "\n",
        "    `x < 5 and x < 10`\n",
        "\n",
        "- `or`: regresa `True` si una de las expresiones es verdadera. \n",
        "\n",
        "    `x < 5 or x < 4`\n",
        "\n",
        "- `not`: Regresa un `False` si el resultado es `True`.\n",
        "\n",
        "`not (5 < 4)`"
      ]
    },
    {
      "cell_type": "markdown",
      "metadata": {
        "id": "O2lN1OYA-iR_"
      },
      "source": [
        "M.C. Daniel López\n",
        "\n",
        "UA: Inteligencia Artificial.\n",
        "\n",
        "Fuentes: \n",
        "1. w3schools.com/python/default.asp\n",
        "2. codecademy.com \n",
        "3. Matthes, E. (2019). Python crash course: A hands-on, project-based introduction to programming. no starch press.\n"
      ]
    }
  ]
}